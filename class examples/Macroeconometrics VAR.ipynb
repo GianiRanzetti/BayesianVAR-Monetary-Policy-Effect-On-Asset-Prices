{
 "cells": [
  {
   "cell_type": "code",
   "execution_count": 44,
   "id": "5df158e4",
   "metadata": {},
   "outputs": [],
   "source": [
    "# Import the packages\n",
    "\n",
    "import pandas as pd\n",
    "import numpy as np\n",
    "import matplotlib.pyplot as plt\n",
    "\n",
    "import copy\n",
    "from numpy.linalg import inv\n",
    "from pandas_datareader.data import DataReader\n",
    "from pandas.plotting import register_matplotlib_converters\n",
    "register_matplotlib_converters()\n",
    "\n",
    "from scipy import signal\n",
    "import statsmodels.api as sm\n",
    "from statsmodels.tsa.api import VAR\n",
    "from scipy.optimize import root\n",
    "from statsmodels.tsa.vector_ar.vecm import coint_johansen\n",
    "from statsmodels.compat import lzip"
   ]
  },
  {
   "cell_type": "markdown",
   "id": "0f42180f",
   "metadata": {},
   "source": [
    "# An example with simulated data"
   ]
  },
  {
   "cell_type": "code",
   "execution_count": 62,
   "id": "9668a38f",
   "metadata": {},
   "outputs": [],
   "source": [
    "# Generate some sample data\n",
    "np.random.seed(0)\n",
    "n_obs = 100\n",
    "data = np.random.normal(size=(n_obs, 2))\n",
    "data += np.arange(n_obs)[:, np.newaxis]"
   ]
  },
  {
   "cell_type": "markdown",
   "id": "07f1c5be",
   "metadata": {},
   "source": [
    "Pandas DataFrame is a widely-used data structure in Python for handling structured data, such as time series data commonly used in VAR modeling. Its intuitive interface, labeling and indexing capabilities, rich functionality, and seamless integration with other libraries make it the preferred choice for data manipulation and VAR estimation in Python."
   ]
  },
  {
   "cell_type": "code",
   "execution_count": 63,
   "id": "3dc65973",
   "metadata": {},
   "outputs": [],
   "source": [
    "# Create a DataFrame\n",
    "df = pd.DataFrame(data, columns=['X1', 'X2'])"
   ]
  },
  {
   "cell_type": "code",
   "execution_count": 64,
   "id": "2dabd39d",
   "metadata": {},
   "outputs": [
    {
     "data": {
      "image/png": "[encoded data removed]",
      "text/plain": [
       "<Figure size 432x288 with 1 Axes>"
      ]
     },
     "metadata": {
      "needs_background": "light"
     },
     "output_type": "display_data"
    }
   ],
   "source": [
    "# Plot the time series data\n",
    "df.plot()\n",
    "plt.title('Sample Time Series Data')\n",
    "plt.xlabel('Time')\n",
    "plt.ylabel('Value')\n",
    "plt.show()"
   ]
  },
  {
   "cell_type": "markdown",
   "id": "738bc715",
   "metadata": {},
   "source": [
    "In Python, fitting a VAR model involves using the VAR class from the statsmodels library. This module provides comprehensive functionality for time series analysis, including VAR modeling. With statsmodels, we can easily specify the order of the VAR model, which determines the number of lagged observations included in the model. This flexibility allows us to tailor the model complexity to the characteristics of the time series data and the underlying system dynamics."
   ]
  },
  {
   "cell_type": "code",
   "execution_count": 65,
   "id": "5079a90e",
   "metadata": {},
   "outputs": [
    {
     "data": {
      "text/plain": [
       "0.9941657275847339"
      ]
     },
     "execution_count": 65,
     "metadata": {},
     "output_type": "execute_result"
    }
   ],
   "source": [
    "adfuller(df['X1'])[1]"
   ]
  },
  {
   "cell_type": "code",
   "execution_count": 66,
   "id": "3af31b34",
   "metadata": {},
   "outputs": [],
   "source": [
    "df['dX1'] = df['X1'] -  df[\"X1\"].shift(1)\n",
    "df['dX2'] = df['X2'] -  df[\"X2\"].shift(1)\n",
    "df = df[1:] #eliminate NaN"
   ]
  },
  {
   "cell_type": "code",
   "execution_count": 70,
   "id": "6b778d96",
   "metadata": {},
   "outputs": [
    {
     "data": {
      "text/plain": [
       "(-8.357729339498562,\n",
       " 2.878705776525002e-13,\n",
       " 4,\n",
       " 94,\n",
       " {'1%': -3.5019123847798657,\n",
       "  '5%': -2.892815255482889,\n",
       "  '10%': -2.583453861475781},\n",
       " 247.65394031411506)"
      ]
     },
     "execution_count": 70,
     "metadata": {},
     "output_type": "execute_result"
    }
   ],
   "source": [
    "adfuller(df['dX1'])"
   ]
  },
  {
   "cell_type": "code",
   "execution_count": 71,
   "id": "91dc23f7",
   "metadata": {},
   "outputs": [
    {
     "name": "stdout",
     "output_type": "stream",
     "text": [
      "Help on function adfuller in module statsmodels.tsa.stattools:\n",
      "\n",
      "adfuller(x, maxlag=None, regression='c', autolag='AIC', store=False, regresults=False)\n",
      "    Augmented Dickey-Fuller unit root test.\n",
      "    \n",
      "    The Augmented Dickey-Fuller test can be used to test for a unit root in a\n",
      "    univariate process in the presence of serial correlation.\n",
      "    \n",
      "    Parameters\n",
      "    ----------\n",
      "    x : array_like, 1d\n",
      "        The data series to test.\n",
      "    maxlag : int\n",
      "        Maximum lag which is included in test, default 12*(nobs/100)^{1/4}.\n",
      "    regression : {\"c\",\"ct\",\"ctt\",\"nc\"}\n",
      "        Constant and trend order to include in regression.\n",
      "    \n",
      "        * \"c\" : constant only (default).\n",
      "        * \"ct\" : constant and trend.\n",
      "        * \"ctt\" : constant, and linear and quadratic trend.\n",
      "        * \"nc\" : no constant, no trend.\n",
      "    \n",
      "    autolag : {\"AIC\", \"BIC\", \"t-stat\", None}\n",
      "        Method to use when automatically determining the lag length among the\n",
      "        values 0, 1, ..., maxlag.\n",
      "    \n",
      "        * If \"AIC\" (default) or \"BIC\", then the number of lags is chosen\n",
      "          to minimize the corresponding information criterion.\n",
      "        * \"t-stat\" based choice of maxlag.  Starts with maxlag and drops a\n",
      "          lag until the t-statistic on the last lag length is significant\n",
      "          using a 5%-sized test.\n",
      "        * If None, then the number of included lags is set to maxlag.\n",
      "    store : bool\n",
      "        If True, then a result instance is returned additionally to\n",
      "        the adf statistic. Default is False.\n",
      "    regresults : bool, optional\n",
      "        If True, the full regression results are returned. Default is False.\n",
      "    \n",
      "    Returns\n",
      "    -------\n",
      "    adf : float\n",
      "        The test statistic.\n",
      "    pvalue : float\n",
      "        MacKinnon\"s approximate p-value based on MacKinnon (1994, 2010).\n",
      "    usedlag : int\n",
      "        The number of lags used.\n",
      "    nobs : int\n",
      "        The number of observations used for the ADF regression and calculation\n",
      "        of the critical values.\n",
      "    critical values : dict\n",
      "        Critical values for the test statistic at the 1 %, 5 %, and 10 %\n",
      "        levels. Based on MacKinnon (2010).\n",
      "    icbest : float\n",
      "        The maximized information criterion if autolag is not None.\n",
      "    resstore : ResultStore, optional\n",
      "        A dummy class with results attached as attributes.\n",
      "    \n",
      "    Notes\n",
      "    -----\n",
      "    The null hypothesis of the Augmented Dickey-Fuller is that there is a unit\n",
      "    root, with the alternative that there is no unit root. If the pvalue is\n",
      "    above a critical size, then we cannot reject that there is a unit root.\n",
      "    \n",
      "    The p-values are obtained through regression surface approximation from\n",
      "    MacKinnon 1994, but using the updated 2010 tables. If the p-value is close\n",
      "    to significant, then the critical values should be used to judge whether\n",
      "    to reject the null.\n",
      "    \n",
      "    The autolag option and maxlag for it are described in Greene.\n",
      "    \n",
      "    References\n",
      "    ----------\n",
      "    .. [1] W. Green.  \"Econometric Analysis,\" 5th ed., Pearson, 2003.\n",
      "    \n",
      "    .. [2] Hamilton, J.D.  \"Time Series Analysis\".  Princeton, 1994.\n",
      "    \n",
      "    .. [3] MacKinnon, J.G. 1994.  \"Approximate asymptotic distribution functions for\n",
      "        unit-root and cointegration tests.  `Journal of Business and Economic\n",
      "        Statistics` 12, 167-76.\n",
      "    \n",
      "    .. [4] MacKinnon, J.G. 2010. \"Critical Values for Cointegration Tests.\"  Queen\"s\n",
      "        University, Dept of Economics, Working Papers.  Available at\n",
      "        http://ideas.repec.org/p/qed/wpaper/1227.html\n",
      "    \n",
      "    Examples\n",
      "    --------\n",
      "    See example notebook\n",
      "\n"
     ]
    }
   ],
   "source": [
    "help(adfuller)"
   ]
  },
  {
   "cell_type": "code",
   "execution_count": 73,
   "id": "777d3217",
   "metadata": {
    "scrolled": false
   },
   "outputs": [
    {
     "data": {
      "text/html": [
       "<div>\n",
       "<style scoped>\n",
       "    .dataframe tbody tr th:only-of-type {\n",
       "        vertical-align: middle;\n",
       "    }\n",
       "\n",
       "    .dataframe tbody tr th {\n",
       "        vertical-align: top;\n",
       "    }\n",
       "\n",
       "    .dataframe thead th {\n",
       "        text-align: right;\n",
       "    }\n",
       "</style>\n",
       "<table border=\"1\" class=\"dataframe\">\n",
       "  <thead>\n",
       "    <tr style=\"text-align: right;\">\n",
       "      <th></th>\n",
       "      <th>X1</th>\n",
       "      <th>X2</th>\n",
       "      <th>dX1</th>\n",
       "      <th>dX2</th>\n",
       "    </tr>\n",
       "  </thead>\n",
       "  <tbody>\n",
       "    <tr>\n",
       "      <th>1</th>\n",
       "      <td>1.978738</td>\n",
       "      <td>3.240893</td>\n",
       "      <td>0.214686</td>\n",
       "      <td>2.840736</td>\n",
       "    </tr>\n",
       "    <tr>\n",
       "      <th>2</th>\n",
       "      <td>3.867558</td>\n",
       "      <td>1.022722</td>\n",
       "      <td>1.888820</td>\n",
       "      <td>-2.218171</td>\n",
       "    </tr>\n",
       "    <tr>\n",
       "      <th>3</th>\n",
       "      <td>3.950088</td>\n",
       "      <td>2.848643</td>\n",
       "      <td>0.082530</td>\n",
       "      <td>1.825921</td>\n",
       "    </tr>\n",
       "    <tr>\n",
       "      <th>4</th>\n",
       "      <td>3.896781</td>\n",
       "      <td>4.410599</td>\n",
       "      <td>-0.053307</td>\n",
       "      <td>1.561956</td>\n",
       "    </tr>\n",
       "    <tr>\n",
       "      <th>5</th>\n",
       "      <td>5.144044</td>\n",
       "      <td>6.454274</td>\n",
       "      <td>1.247262</td>\n",
       "      <td>2.043675</td>\n",
       "    </tr>\n",
       "    <tr>\n",
       "      <th>...</th>\n",
       "      <td>...</td>\n",
       "      <td>...</td>\n",
       "      <td>...</td>\n",
       "      <td>...</td>\n",
       "    </tr>\n",
       "    <tr>\n",
       "      <th>95</th>\n",
       "      <td>93.707143</td>\n",
       "      <td>95.267051</td>\n",
       "      <td>0.446706</td>\n",
       "      <td>-0.275964</td>\n",
       "    </tr>\n",
       "    <tr>\n",
       "      <th>96</th>\n",
       "      <td>95.960717</td>\n",
       "      <td>94.831907</td>\n",
       "      <td>2.253574</td>\n",
       "      <td>-0.435144</td>\n",
       "    </tr>\n",
       "    <tr>\n",
       "      <th>97</th>\n",
       "      <td>97.523277</td>\n",
       "      <td>96.828454</td>\n",
       "      <td>1.562559</td>\n",
       "      <td>1.996547</td>\n",
       "    </tr>\n",
       "    <tr>\n",
       "      <th>98</th>\n",
       "      <td>98.771791</td>\n",
       "      <td>98.823504</td>\n",
       "      <td>1.248514</td>\n",
       "      <td>1.995050</td>\n",
       "    </tr>\n",
       "    <tr>\n",
       "      <th>99</th>\n",
       "      <td>101.163236</td>\n",
       "      <td>100.336528</td>\n",
       "      <td>2.391445</td>\n",
       "      <td>1.513024</td>\n",
       "    </tr>\n",
       "  </tbody>\n",
       "</table>\n",
       "<p>99 rows × 4 columns</p>\n",
       "</div>"
      ],
      "text/plain": [
       "            X1          X2       dX1       dX2\n",
       "1     1.978738    3.240893  0.214686  2.840736\n",
       "2     3.867558    1.022722  1.888820 -2.218171\n",
       "3     3.950088    2.848643  0.082530  1.825921\n",
       "4     3.896781    4.410599 -0.053307  1.561956\n",
       "5     5.144044    6.454274  1.247262  2.043675\n",
       "..         ...         ...       ...       ...\n",
       "95   93.707143   95.267051  0.446706 -0.275964\n",
       "96   95.960717   94.831907  2.253574 -0.435144\n",
       "97   97.523277   96.828454  1.562559  1.996547\n",
       "98   98.771791   98.823504  1.248514  1.995050\n",
       "99  101.163236  100.336528  2.391445  1.513024\n",
       "\n",
       "[99 rows x 4 columns]"
      ]
     },
     "execution_count": 73,
     "metadata": {},
     "output_type": "execute_result"
    }
   ],
   "source": [
    "df"
   ]
  },
  {
   "cell_type": "code",
   "execution_count": 76,
   "id": "32c792f7",
   "metadata": {},
   "outputs": [
    {
     "data": {
      "text/html": [
       "<div>\n",
       "<style scoped>\n",
       "    .dataframe tbody tr th:only-of-type {\n",
       "        vertical-align: middle;\n",
       "    }\n",
       "\n",
       "    .dataframe tbody tr th {\n",
       "        vertical-align: top;\n",
       "    }\n",
       "\n",
       "    .dataframe thead th {\n",
       "        text-align: right;\n",
       "    }\n",
       "</style>\n",
       "<table border=\"1\" class=\"dataframe\">\n",
       "  <thead>\n",
       "    <tr style=\"text-align: right;\">\n",
       "      <th></th>\n",
       "      <th>dX1</th>\n",
       "      <th>dX2</th>\n",
       "    </tr>\n",
       "  </thead>\n",
       "  <tbody>\n",
       "    <tr>\n",
       "      <th>1</th>\n",
       "      <td>0.214686</td>\n",
       "      <td>2.840736</td>\n",
       "    </tr>\n",
       "    <tr>\n",
       "      <th>2</th>\n",
       "      <td>1.888820</td>\n",
       "      <td>-2.218171</td>\n",
       "    </tr>\n",
       "    <tr>\n",
       "      <th>3</th>\n",
       "      <td>0.082530</td>\n",
       "      <td>1.825921</td>\n",
       "    </tr>\n",
       "    <tr>\n",
       "      <th>4</th>\n",
       "      <td>-0.053307</td>\n",
       "      <td>1.561956</td>\n",
       "    </tr>\n",
       "    <tr>\n",
       "      <th>5</th>\n",
       "      <td>1.247262</td>\n",
       "      <td>2.043675</td>\n",
       "    </tr>\n",
       "    <tr>\n",
       "      <th>...</th>\n",
       "      <td>...</td>\n",
       "      <td>...</td>\n",
       "    </tr>\n",
       "    <tr>\n",
       "      <th>95</th>\n",
       "      <td>0.446706</td>\n",
       "      <td>-0.275964</td>\n",
       "    </tr>\n",
       "    <tr>\n",
       "      <th>96</th>\n",
       "      <td>2.253574</td>\n",
       "      <td>-0.435144</td>\n",
       "    </tr>\n",
       "    <tr>\n",
       "      <th>97</th>\n",
       "      <td>1.562559</td>\n",
       "      <td>1.996547</td>\n",
       "    </tr>\n",
       "    <tr>\n",
       "      <th>98</th>\n",
       "      <td>1.248514</td>\n",
       "      <td>1.995050</td>\n",
       "    </tr>\n",
       "    <tr>\n",
       "      <th>99</th>\n",
       "      <td>2.391445</td>\n",
       "      <td>1.513024</td>\n",
       "    </tr>\n",
       "  </tbody>\n",
       "</table>\n",
       "<p>99 rows × 2 columns</p>\n",
       "</div>"
      ],
      "text/plain": [
       "         dX1       dX2\n",
       "1   0.214686  2.840736\n",
       "2   1.888820 -2.218171\n",
       "3   0.082530  1.825921\n",
       "4  -0.053307  1.561956\n",
       "5   1.247262  2.043675\n",
       "..       ...       ...\n",
       "95  0.446706 -0.275964\n",
       "96  2.253574 -0.435144\n",
       "97  1.562559  1.996547\n",
       "98  1.248514  1.995050\n",
       "99  2.391445  1.513024\n",
       "\n",
       "[99 rows x 2 columns]"
      ]
     },
     "execution_count": 76,
     "metadata": {},
     "output_type": "execute_result"
    }
   ],
   "source": [
    "X = df.loc[:,[\"dX1\",\"dX2\"]].copy() # we only want dX1 and dX2\n",
    "# df.loc: Access a group of rows and columns by label(s)\n",
    "X"
   ]
  },
  {
   "cell_type": "code",
   "execution_count": 77,
   "id": "775164c0",
   "metadata": {
    "scrolled": false
   },
   "outputs": [
    {
     "name": "stdout",
     "output_type": "stream",
     "text": [
      "  Summary of Regression Results   \n",
      "==================================\n",
      "Model:                         VAR\n",
      "Method:                        OLS\n",
      "Date:           Thu, 29, Feb, 2024\n",
      "Time:                     08:37:51\n",
      "--------------------------------------------------------------------\n",
      "No. of Equations:         2.00000    BIC:                   0.891520\n",
      "Nobs:                     95.0000    HQIC:                  0.603156\n",
      "Log likelihood:          -270.961    FPE:                    1.50496\n",
      "AIC:                     0.407627    Det(Omega_mle):         1.25576\n",
      "--------------------------------------------------------------------\n",
      "Results for equation dX1\n",
      "=========================================================================\n",
      "            coefficient       std. error           t-stat            prob\n",
      "-------------------------------------------------------------------------\n",
      "const          3.030040         0.542375            5.587           0.000\n",
      "L1.dX1        -0.525980         0.105346           -4.993           0.000\n",
      "L1.dX2         0.061463         0.101769            0.604           0.546\n",
      "L2.dX1        -0.782845         0.114944           -6.811           0.000\n",
      "L2.dX2        -0.080062         0.122655           -0.653           0.514\n",
      "L3.dX1        -0.360150         0.115447           -3.120           0.002\n",
      "L3.dX2        -0.018219         0.121665           -0.150           0.881\n",
      "L4.dX1        -0.324838         0.107887           -3.011           0.003\n",
      "L4.dX2        -0.002540         0.098681           -0.026           0.979\n",
      "=========================================================================\n",
      "\n",
      "Results for equation dX2\n",
      "=========================================================================\n",
      "            coefficient       std. error           t-stat            prob\n",
      "-------------------------------------------------------------------------\n",
      "const          2.809534         0.561401            5.005           0.000\n",
      "L1.dX1         0.062854         0.109041            0.576           0.564\n",
      "L1.dX2        -0.854404         0.105338           -8.111           0.000\n",
      "L2.dX1         0.080940         0.118976            0.680           0.496\n",
      "L2.dX2        -0.645462         0.126957           -5.084           0.000\n",
      "L3.dX1         0.226850         0.119497            1.898           0.058\n",
      "L3.dX2        -0.515125         0.125932           -4.090           0.000\n",
      "L4.dX1         0.094890         0.111671            0.850           0.395\n",
      "L4.dX2        -0.248172         0.102143           -2.430           0.015\n",
      "=========================================================================\n",
      "\n",
      "Correlation matrix of residuals\n",
      "            dX1       dX2\n",
      "dX1    1.000000 -0.105070\n",
      "dX2   -0.105070  1.000000\n",
      "\n",
      "\n",
      "\n"
     ]
    }
   ],
   "source": [
    "# Fit VAR model\n",
    "model = VAR(X)\n",
    "order = 4  # Order of VAR model\n",
    "results = model.fit(order)\n",
    "\n",
    "# Print summary of the model\n",
    "print(results.summary())"
   ]
  },
  {
   "cell_type": "markdown",
   "id": "54e02736",
   "metadata": {},
   "source": [
    "## Practical Example"
   ]
  },
  {
   "cell_type": "markdown",
   "id": "dd87a522",
   "metadata": {},
   "source": [
    "The seminal paper titled \"The Dynamic Effects of Aggregate Demand and Supply Disturbances,\" published in the American Economic Review in 1989, Blanchard and Quah propose a methodology to decompose fluctuations in output and prices into components attributable to aggregate demand (AD) and aggregate supply (AS) disturbances. They argue that understanding the relative contributions of demand and supply shocks to economic fluctuations is essential for policymakers to formulate effective stabilization policies.\n",
    "\n",
    "Blanchard and Quah use a vector autoregressive (VAR) framework to analyze the dynamics of output and prices in the United States. The dataset they employ consists of quarterly observations spanning the period from 1953 to 1986."
   ]
  },
  {
   "cell_type": "code",
   "execution_count": 87,
   "id": "c29bba34",
   "metadata": {},
   "outputs": [],
   "source": [
    "'''\n",
    "Downloading and preparing data using DataReader\n",
    "'''\n",
    "           \n",
    "#Sample selection\n",
    "start = '1948Q1'                                              \n",
    "end = '1987Q3'\n",
    "\n",
    "#Data from FRED\n",
    "gdp = DataReader('GNPC96', 'fred', start=start,  end=end) # quarterly frequency\n",
    "urate = DataReader('UNRATE', 'fred', start=start, end=end)  # monthly frequency"
   ]
  },
  {
   "cell_type": "code",
   "execution_count": 88,
   "id": "56d9393c",
   "metadata": {},
   "outputs": [],
   "source": [
    "#Frequency change for urate\n",
    "urateq = urate.resample('Q').mean() # Convenience method for frequency conversion and resampling of time series. \n",
    "                                    # Object must have a datetime-like index \n",
    "# urateq_test = urate.groupby(pd.PeriodIndex(urate.index, freq='Q'), axis=0).mean()"
   ]
  },
  {
   "cell_type": "code",
   "execution_count": 101,
   "id": "448bcc6d",
   "metadata": {},
   "outputs": [
    {
     "data": {
      "image/png": "[encoded data removed]",
      "text/plain": [
       "<Figure size 1152x720 with 2 Axes>"
      ]
     },
     "metadata": {
      "needs_background": "light"
     },
     "output_type": "display_data"
    }
   ],
   "source": [
    "'''\n",
    "Plot original data\n",
    "'''\n",
    "\n",
    "plt.figure(figsize=(16,10))\n",
    "plt.subplot(211)\n",
    "plt.plot(gdp)\n",
    "plt.xlabel('Date')\n",
    "plt.ylabel('Annualized quarterly GDP')\n",
    "plt.title('Annualized quarterly GDP')\n",
    "plt.grid()\n",
    "plt.subplot(212)\n",
    "plt.plot(urateq)\n",
    "plt.xlabel('Date')\n",
    "plt.ylabel('Unemployment rate')\n",
    "plt.title('Unemployment rate')\n",
    "plt.grid()\n",
    "plt.show()"
   ]
  },
  {
   "cell_type": "code",
   "execution_count": 90,
   "id": "2afdacfa",
   "metadata": {},
   "outputs": [
    {
     "name": "stdout",
     "output_type": "stream",
     "text": [
      "Help on function adfuller in module statsmodels.tsa.stattools:\n",
      "\n",
      "adfuller(x, maxlag=None, regression='c', autolag='AIC', store=False, regresults=False)\n",
      "    Augmented Dickey-Fuller unit root test.\n",
      "    \n",
      "    The Augmented Dickey-Fuller test can be used to test for a unit root in a\n",
      "    univariate process in the presence of serial correlation.\n",
      "    \n",
      "    Parameters\n",
      "    ----------\n",
      "    x : array_like, 1d\n",
      "        The data series to test.\n",
      "    maxlag : int\n",
      "        Maximum lag which is included in test, default 12*(nobs/100)^{1/4}.\n",
      "    regression : {\"c\",\"ct\",\"ctt\",\"nc\"}\n",
      "        Constant and trend order to include in regression.\n",
      "    \n",
      "        * \"c\" : constant only (default).\n",
      "        * \"ct\" : constant and trend.\n",
      "        * \"ctt\" : constant, and linear and quadratic trend.\n",
      "        * \"nc\" : no constant, no trend.\n",
      "    \n",
      "    autolag : {\"AIC\", \"BIC\", \"t-stat\", None}\n",
      "        Method to use when automatically determining the lag length among the\n",
      "        values 0, 1, ..., maxlag.\n",
      "    \n",
      "        * If \"AIC\" (default) or \"BIC\", then the number of lags is chosen\n",
      "          to minimize the corresponding information criterion.\n",
      "        * \"t-stat\" based choice of maxlag.  Starts with maxlag and drops a\n",
      "          lag until the t-statistic on the last lag length is significant\n",
      "          using a 5%-sized test.\n",
      "        * If None, then the number of included lags is set to maxlag.\n",
      "    store : bool\n",
      "        If True, then a result instance is returned additionally to\n",
      "        the adf statistic. Default is False.\n",
      "    regresults : bool, optional\n",
      "        If True, the full regression results are returned. Default is False.\n",
      "    \n",
      "    Returns\n",
      "    -------\n",
      "    adf : float\n",
      "        The test statistic.\n",
      "    pvalue : float\n",
      "        MacKinnon\"s approximate p-value based on MacKinnon (1994, 2010).\n",
      "    usedlag : int\n",
      "        The number of lags used.\n",
      "    nobs : int\n",
      "        The number of observations used for the ADF regression and calculation\n",
      "        of the critical values.\n",
      "    critical values : dict\n",
      "        Critical values for the test statistic at the 1 %, 5 %, and 10 %\n",
      "        levels. Based on MacKinnon (2010).\n",
      "    icbest : float\n",
      "        The maximized information criterion if autolag is not None.\n",
      "    resstore : ResultStore, optional\n",
      "        A dummy class with results attached as attributes.\n",
      "    \n",
      "    Notes\n",
      "    -----\n",
      "    The null hypothesis of the Augmented Dickey-Fuller is that there is a unit\n",
      "    root, with the alternative that there is no unit root. If the pvalue is\n",
      "    above a critical size, then we cannot reject that there is a unit root.\n",
      "    \n",
      "    The p-values are obtained through regression surface approximation from\n",
      "    MacKinnon 1994, but using the updated 2010 tables. If the p-value is close\n",
      "    to significant, then the critical values should be used to judge whether\n",
      "    to reject the null.\n",
      "    \n",
      "    The autolag option and maxlag for it are described in Greene.\n",
      "    \n",
      "    References\n",
      "    ----------\n",
      "    .. [1] W. Green.  \"Econometric Analysis,\" 5th ed., Pearson, 2003.\n",
      "    \n",
      "    .. [2] Hamilton, J.D.  \"Time Series Analysis\".  Princeton, 1994.\n",
      "    \n",
      "    .. [3] MacKinnon, J.G. 1994.  \"Approximate asymptotic distribution functions for\n",
      "        unit-root and cointegration tests.  `Journal of Business and Economic\n",
      "        Statistics` 12, 167-76.\n",
      "    \n",
      "    .. [4] MacKinnon, J.G. 2010. \"Critical Values for Cointegration Tests.\"  Queen\"s\n",
      "        University, Dept of Economics, Working Papers.  Available at\n",
      "        http://ideas.repec.org/p/qed/wpaper/1227.html\n",
      "    \n",
      "    Examples\n",
      "    --------\n",
      "    See example notebook\n",
      "\n"
     ]
    }
   ],
   "source": [
    "help(adfuller)"
   ]
  },
  {
   "cell_type": "code",
   "execution_count": 98,
   "id": "04b99ebc",
   "metadata": {},
   "outputs": [
    {
     "name": "stdout",
     "output_type": "stream",
     "text": [
      "urateq:\n",
      "ADF Statistic: -2.379583651816758\n",
      "p-value: 0.39052768099433177\n",
      "gdp:\n",
      "ADF Statistic: 1.8241666832764825\n",
      "p-value: 0.998395762517703\n"
     ]
    }
   ],
   "source": [
    "# Check stationarity of series\n",
    "from statsmodels.tsa.stattools import adfuller\n",
    "\n",
    "# Assuming 'data' is your time series data\n",
    "result_1 = adfuller(urateq, regression='ct')\n",
    "\n",
    "# Extracting test statistics and p-value\n",
    "adf_statistic = result_1[0]\n",
    "p_value = result_1[1]\n",
    "\n",
    "# Printing test results\n",
    "print('urateq:')\n",
    "print(\"ADF Statistic:\", adf_statistic)\n",
    "print(\"p-value:\", p_value)\n",
    "\n",
    "# Assuming 'data' is your time series data\n",
    "result_2 = adfuller(gdp)\n",
    "\n",
    "# Extracting test statistics and p-value\n",
    "adf_statistic = result_2[0]\n",
    "p_value = result_2[1]\n",
    "\n",
    "# Printing test results\n",
    "print('gdp:')\n",
    "print(\"ADF Statistic:\", adf_statistic)\n",
    "print(\"p-value:\", p_value)"
   ]
  },
  {
   "cell_type": "code",
   "execution_count": 99,
   "id": "8244d002",
   "metadata": {},
   "outputs": [],
   "source": [
    "#From YYYYQ format to date format (find it important for matplotlib)\n",
    "gdp.index = pd.date_range(start,'1987Q4',freq=\"Q\")\n",
    "urateq.index = pd.date_range(start,'1987Q4',freq=\"Q\")\n",
    "\n",
    "'''\n",
    "Transforming the data part 2\n",
    "'''\n",
    "\n",
    "\n",
    "#create Data Frame\n",
    "df = pd.concat((urateq, gdp), axis=1)\n",
    "df.columns = [\"urate\",\"gdp\"]\n",
    "\n",
    "\n",
    "# Differenciate GDP and urate\n",
    "df[\"lngdp\"] = np.log(df[\"gdp\"])\n",
    "df[\"dy\"] = (df[\"lngdp\"] - df[\"lngdp\"].shift(1))*400 #annualized quarterly GDP growth\n",
    "df[\"durates\"] = (df[\"urate\"] - df[\"urate\"].shift(1))\n",
    "df = df[1:] # drop first observation\n",
    "\n",
    "\n",
    "# Detrending as in the paper: Important to make the data covariance stationary. \n",
    "# Weak stationarity is an important property for representation and estimation\n",
    "# Productivity Slowdown less apparent than in origal data, upward trend in urate present\n",
    "# signal.detrend: Remove linear trend along axis from data.\n",
    "\n",
    "df.loc[:\"1973Q2\",\"dys\"] = signal.detrend(df.loc[:\"1973Q2\",\"dy\"],type=\"constant\")\n",
    "df.loc[\"1973Q3\":,\"dys\"] = signal.detrend(df.loc[\"1973Q3\":,\"dy\"],type=\"constant\")\n",
    "df[\"urates\"] = signal.detrend(df[\"urate\"])"
   ]
  },
  {
   "cell_type": "code",
   "execution_count": 100,
   "id": "42ddcbc6",
   "metadata": {},
   "outputs": [
    {
     "data": {
      "image/png": "[encoded data removed]",
      "text/plain": [
       "<Figure size 1152x720 with 2 Axes>"
      ]
     },
     "metadata": {
      "needs_background": "light"
     },
     "output_type": "display_data"
    }
   ],
   "source": [
    "'''\n",
    "Plot new data\n",
    "'''\n",
    "\n",
    "plt.figure(figsize=(16,10))\n",
    "plt.subplot(211)\n",
    "plt.plot(df['dy'],label='observed')\n",
    "plt.plot(df['dys'],label='detrended')\n",
    "plt.xlabel('Date')\n",
    "plt.ylabel('Annualized quarterly GDP growth')\n",
    "plt.title('Annualized quarterly GDP growth')\n",
    "plt.grid()\n",
    "plt.subplot(212)\n",
    "plt.plot(df['urate'],label='observed')\n",
    "plt.plot(df['durates'],label='detrended')\n",
    "plt.xlabel('Date')\n",
    "plt.ylabel('Unemployment rate')\n",
    "plt.title('Unemployment rate')\n",
    "plt.grid()\n",
    "plt.show()"
   ]
  },
  {
   "cell_type": "code",
   "execution_count": 102,
   "id": "8ae12af7",
   "metadata": {},
   "outputs": [
    {
     "data": {
      "text/plain": [
       "pandas.core.frame.DataFrame"
      ]
     },
     "execution_count": 102,
     "metadata": {},
     "output_type": "execute_result"
    }
   ],
   "source": [
    "#Setting up the data for VAR\n",
    "X = df.loc[:,[\"dys\",\"durates\"]].copy()\n",
    "type(X)"
   ]
  },
  {
   "cell_type": "markdown",
   "id": "a049358f",
   "metadata": {},
   "source": [
    "Python is an object oriented programming language. In Python, the dynamic nature of typing means we must be cautious about the type of objects we work with. Objects can change type during runtime, leading to unexpected behavior if operations are not appropriate for the object's type. Being mindful of object types helps prevent errors and ensures code reliability"
   ]
  },
  {
   "cell_type": "code",
   "execution_count": 103,
   "id": "7745fdd0",
   "metadata": {},
   "outputs": [
    {
     "data": {
      "text/html": [
       "<table class=\"simpletable\">\n",
       "<caption>VAR Order Selection (* highlights the minimums)</caption>\n",
       "<tr>\n",
       "   <td></td>      <th>AIC</th>         <th>BIC</th>         <th>FPE</th>        <th>HQIC</th>    \n",
       "</tr>\n",
       "<tr>\n",
       "  <th>0</th>  <td>    0.4222</td>  <td>    0.4222</td>  <td>     1.525</td>  <td>    0.4222</td> \n",
       "</tr>\n",
       "<tr>\n",
       "  <th>1</th>  <td>   -0.1181</td>  <td>  -0.03631*</td> <td>    0.8887</td>  <td>  -0.08484</td> \n",
       "</tr>\n",
       "<tr>\n",
       "  <th>2</th>  <td>   -0.1988</td>  <td>  -0.03536</td>  <td>    0.8197</td>  <td>   -0.1324*</td>\n",
       "</tr>\n",
       "<tr>\n",
       "  <th>3</th>  <td>   -0.2150*</td> <td>   0.03018</td>  <td>    0.8066*</td> <td>   -0.1154</td> \n",
       "</tr>\n",
       "<tr>\n",
       "  <th>4</th>  <td>   -0.1893</td>  <td>    0.1377</td>  <td>    0.8277</td>  <td>  -0.05644</td> \n",
       "</tr>\n",
       "<tr>\n",
       "  <th>5</th>  <td>   -0.1503</td>  <td>    0.2585</td>  <td>    0.8609</td>  <td>   0.01581</td> \n",
       "</tr>\n",
       "<tr>\n",
       "  <th>6</th>  <td>   -0.1522</td>  <td>    0.3382</td>  <td>    0.8594</td>  <td>   0.04706</td> \n",
       "</tr>\n",
       "<tr>\n",
       "  <th>7</th>  <td>   -0.1096</td>  <td>    0.4626</td>  <td>    0.8972</td>  <td>    0.1229</td> \n",
       "</tr>\n",
       "<tr>\n",
       "  <th>8</th>  <td>  -0.09753</td>  <td>    0.5564</td>  <td>    0.9087</td>  <td>    0.1682</td> \n",
       "</tr>\n",
       "<tr>\n",
       "  <th>9</th>  <td>  -0.08049</td>  <td>    0.6552</td>  <td>    0.9250</td>  <td>    0.2184</td> \n",
       "</tr>\n",
       "<tr>\n",
       "  <th>10</th> <td>  -0.05495</td>  <td>    0.7625</td>  <td>    0.9498</td>  <td>    0.2772</td> \n",
       "</tr>\n",
       "<tr>\n",
       "  <th>11</th> <td>  -0.07041</td>  <td>    0.8288</td>  <td>    0.9363</td>  <td>    0.2949</td> \n",
       "</tr>\n",
       "<tr>\n",
       "  <th>12</th> <td>   -0.1040</td>  <td>    0.8769</td>  <td>    0.9066</td>  <td>    0.2945</td> \n",
       "</tr>\n",
       "</table>"
      ],
      "text/plain": [
       "<class 'statsmodels.iolib.table.SimpleTable'>"
      ]
     },
     "execution_count": 103,
     "metadata": {},
     "output_type": "execute_result"
    }
   ],
   "source": [
    "model = VAR(X)\n",
    "model.select_order(12, trend='n').summary()"
   ]
  },
  {
   "cell_type": "code",
   "execution_count": 104,
   "id": "e43e54f4",
   "metadata": {},
   "outputs": [
    {
     "data": {
      "text/plain": [
       "  Summary of Regression Results   \n",
       "==================================\n",
       "Model:                         VAR\n",
       "Method:                        OLS\n",
       "Date:           Thu, 29, Feb, 2024\n",
       "Time:                     08:49:49\n",
       "--------------------------------------------------------------------\n",
       "No. of Equations:         2.00000    BIC:                   0.136324\n",
       "Nobs:                     155.000    HQIC:               -0.00359260\n",
       "Log likelihood:          -420.175    FPE:                   0.905545\n",
       "AIC:                   -0.0992961    Det(Omega_mle):        0.839308\n",
       "--------------------------------------------------------------------\n",
       "Results for equation dys\n",
       "=============================================================================\n",
       "                coefficient       std. error           t-stat            prob\n",
       "-----------------------------------------------------------------------------\n",
       "L1.dys             0.082186         0.111721            0.736           0.462\n",
       "L1.durates        -4.213621         1.409532           -2.989           0.003\n",
       "L2.dys             0.171330         0.117187            1.462           0.144\n",
       "L2.durates         2.936790         1.427493            2.057           0.040\n",
       "L3.dys            -0.014437         0.118171           -0.122           0.903\n",
       "L3.durates         1.278716         1.196988            1.068           0.285\n",
       "=============================================================================\n",
       "\n",
       "Results for equation durates\n",
       "=============================================================================\n",
       "                coefficient       std. error           t-stat            prob\n",
       "-----------------------------------------------------------------------------\n",
       "L1.dys            -0.033853         0.008772           -3.859           0.000\n",
       "L1.durates         0.360218         0.110672            3.255           0.001\n",
       "L2.dys            -0.035749         0.009201           -3.885           0.000\n",
       "L2.durates        -0.353222         0.112082           -3.151           0.002\n",
       "L3.dys            -0.018766         0.009278           -2.023           0.043\n",
       "L3.durates        -0.202550         0.093984           -2.155           0.031\n",
       "=============================================================================\n",
       "\n",
       "Correlation matrix of residuals\n",
       "                dys   durates\n",
       "dys        1.000000 -0.696561\n",
       "durates   -0.696561  1.000000\n",
       "\n"
      ]
     },
     "execution_count": 104,
     "metadata": {},
     "output_type": "execute_result"
    }
   ],
   "source": [
    "model = VAR(X)\n",
    "results = model.fit(3, trend='n')\n",
    "results.summary()"
   ]
  },
  {
   "cell_type": "code",
   "execution_count": 106,
   "id": "94660da1",
   "metadata": {},
   "outputs": [
    {
     "name": "stdout",
     "output_type": "stream",
     "text": [
      "The VAR model is stable.\n"
     ]
    }
   ],
   "source": [
    "# Stability Condition: roots are larger than one in absolute value.\n",
    "results = model.fit(3, trend='n')\n",
    "roots = results.roots\n",
    "all_stable = all(np.abs(root) > 1 for root in roots)\n",
    "if all_stable:\n",
    "    print(\"The VAR model is stable.\")\n",
    "else:\n",
    "    print(\"The VAR model is not stable.\")"
   ]
  },
  {
   "cell_type": "markdown",
   "id": "9fd006fc",
   "metadata": {},
   "source": [
    "The ML estimator of the VAR parameters is equivalent to equation by equation OLS estimators.\n",
    "\n",
    "We can write the model in a bigger one and use OLS which is equivalent to Maximum Likelihood for an unrestricted VAR\n",
    "$$X = X_L\\hat{B} + EPS$$\n",
    "where $X$ is $T\\times n$,$X_L$ is $T\\times (n\\times p)$ and $\\hat{B}$ is $(n\\times p) \\times n$\n",
    "\n",
    "$\\hat{B}$ = $[\\hat{B}(1)...\\hat{B}(p)]$\n",
    "\n",
    "Sometimes it is written as as $$X'=\\hat{B}'X_L'+EPS'$$"
   ]
  },
  {
   "cell_type": "code",
   "execution_count": 118,
   "id": "aeeca6fe",
   "metadata": {},
   "outputs": [],
   "source": [
    "'''\n",
    "VAR with a OLS\n",
    "'''\n",
    "XLAG = pd.DataFrame() #empty Dataframe\n",
    "\n",
    "num_lags = 3\n",
    "for i in range(1,num_lags+1):\n",
    "    XLAG = pd.concat([XLAG,X.shift(i).add_suffix(\"-\"+str(i))],axis=1)\n",
    "    \n",
    "#change names to frames that we modify    \n",
    "X2 = X.iloc[num_lags:,:]\n",
    "XLAG2 = XLAG.iloc[num_lags:,:]\n",
    "num_vars = X2.shape[1]\n",
    "num_obs = X2.shape[0]"
   ]
  },
  {
   "cell_type": "markdown",
   "id": "f25fe84b",
   "metadata": {},
   "source": [
    "The resulting ML estimator of the VAR model parameters is:\n",
    "\\begin{equation}\n",
    "    \\hat{B} = \\bigg[\\sum^T_{t=1} x_t x^´_t \\bigg]^{-1}\\bigg[\\sum^T_{t=1} y_t x^´_t \\bigg]\n",
    "\\end{equation}\n",
    "\n",
    "In matrix form:\n",
    "\n",
    "\\begin{equation}\n",
    "    \\hat{B} = (X^´X)^{-1} X^\\prime Y\n",
    "\\end{equation}"
   ]
  },
  {
   "cell_type": "code",
   "execution_count": 119,
   "id": "f73c06d8",
   "metadata": {},
   "outputs": [
    {
     "data": {
      "text/plain": [
       "pandas.core.frame.DataFrame"
      ]
     },
     "execution_count": 119,
     "metadata": {},
     "output_type": "execute_result"
    }
   ],
   "source": [
    "# But what is this?\n",
    "type(X2)"
   ]
  },
  {
   "cell_type": "markdown",
   "id": "cb9087a1",
   "metadata": {},
   "source": [
    "We want to invert and use algebra, so we need to transform this into arrays: $\\textbf{numpy package}$"
   ]
  },
  {
   "cell_type": "code",
   "execution_count": 120,
   "id": "116239f1",
   "metadata": {},
   "outputs": [],
   "source": [
    "#changing to arrays \n",
    "X3 = np.array(X2)\n",
    "XLAG3 = np.array(XLAG2)"
   ]
  },
  {
   "cell_type": "code",
   "execution_count": 121,
   "id": "afbb64b1",
   "metadata": {},
   "outputs": [],
   "source": [
    "#VAR - standard OLS\n",
    "Bhat = inv(XLAG3.T@XLAG3)@XLAG3.T@X3"
   ]
  },
  {
   "cell_type": "code",
   "execution_count": 133,
   "id": "469cb6da",
   "metadata": {},
   "outputs": [
    {
     "data": {
      "text/plain": [
       "array([[[ 0.08218595, -4.21362131],\n",
       "        [-0.03385338,  0.36021834]],\n",
       "\n",
       "       [[ 0.17133029,  2.93679032],\n",
       "        [-0.03574939, -0.35322194]],\n",
       "\n",
       "       [[-0.0144375 ,  1.27871604],\n",
       "        [-0.01876582, -0.20254968]]])"
      ]
     },
     "execution_count": 133,
     "metadata": {},
     "output_type": "execute_result"
    }
   ],
   "source": [
    "(results.coefs)"
   ]
  },
  {
   "cell_type": "code",
   "execution_count": 130,
   "id": "0bb3d544",
   "metadata": {},
   "outputs": [
    {
     "data": {
      "text/plain": [
       "array([[ 0.08218595, -0.03385338],\n",
       "       [-4.21362131,  0.36021834],\n",
       "       [ 0.17133029, -0.03574939],\n",
       "       [ 2.93679032, -0.35322194],\n",
       "       [-0.0144375 , -0.01876582],\n",
       "       [ 1.27871604, -0.20254968]])"
      ]
     },
     "execution_count": 130,
     "metadata": {},
     "output_type": "execute_result"
    }
   ],
   "source": [
    "Bhat"
   ]
  },
  {
   "cell_type": "markdown",
   "id": "3a6d7dc4",
   "metadata": {},
   "source": [
    "# Curse of Dimensionality"
   ]
  },
  {
   "cell_type": "code",
   "execution_count": 79,
   "id": "bc017734",
   "metadata": {
    "scrolled": false
   },
   "outputs": [
    {
     "name": "stdout",
     "output_type": "stream",
     "text": [
      "  Summary of Regression Results   \n",
      "==================================\n",
      "Model:                         VAR\n",
      "Method:                        OLS\n",
      "Date:           Thu, 29, Feb, 2024\n",
      "Time:                     08:39:33\n",
      "--------------------------------------------------------------------\n",
      "No. of Equations:         5.00000    BIC:                    4.62553\n",
      "Nobs:                     95.0000    HQIC:                   2.94341\n",
      "Log likelihood:          -654.630    FPE:                    6.29607\n",
      "AIC:                      1.80283    Det(Omega_mle):         2.31952\n",
      "--------------------------------------------------------------------\n",
      "Results for equation dX1\n",
      "=========================================================================\n",
      "            coefficient       std. error           t-stat            prob\n",
      "-------------------------------------------------------------------------\n",
      "const          1.890404         0.907272            2.084           0.037\n",
      "L1.dX1        -0.854525         0.112110           -7.622           0.000\n",
      "L1.dX2        -0.029397         0.118141           -0.249           0.803\n",
      "L1.dX3         0.041910         0.099722            0.420           0.674\n",
      "L1.dX4         0.351082         0.113541            3.092           0.002\n",
      "L1.dX5        -0.052940         0.112118           -0.472           0.637\n",
      "L2.dX1        -0.563420         0.148464           -3.795           0.000\n",
      "L2.dX2        -0.218043         0.151511           -1.439           0.150\n",
      "L2.dX3        -0.004402         0.115050           -0.038           0.969\n",
      "L2.dX4         0.198797         0.150001            1.325           0.185\n",
      "L2.dX5         0.021117         0.144744            0.146           0.884\n",
      "L3.dX1        -0.232093         0.149939           -1.548           0.122\n",
      "L3.dX2        -0.004884         0.150619           -0.032           0.974\n",
      "L3.dX3         0.068166         0.114703            0.594           0.552\n",
      "L3.dX4         0.067669         0.148779            0.455           0.649\n",
      "L3.dX5         0.043505         0.149487            0.291           0.771\n",
      "L4.dX1        -0.061571         0.108924           -0.565           0.572\n",
      "L4.dX2         0.194458         0.125145            1.554           0.120\n",
      "L4.dX3        -0.031570         0.100519           -0.314           0.753\n",
      "L4.dX4         0.102338         0.106941            0.957           0.339\n",
      "L4.dX5         0.072428         0.118054            0.614           0.540\n",
      "=========================================================================\n",
      "\n",
      "Results for equation dX2\n",
      "=========================================================================\n",
      "            coefficient       std. error           t-stat            prob\n",
      "-------------------------------------------------------------------------\n",
      "const          2.547837         0.896477            2.842           0.004\n",
      "L1.dX1        -0.044126         0.110776           -0.398           0.690\n",
      "L1.dX2        -0.761888         0.116736           -6.527           0.000\n",
      "L1.dX3        -0.052477         0.098535           -0.533           0.594\n",
      "L1.dX4        -0.088536         0.112190           -0.789           0.430\n",
      "L1.dX5         0.020987         0.110784            0.189           0.850\n",
      "L2.dX1        -0.134185         0.146698           -0.915           0.360\n",
      "L2.dX2        -0.499004         0.149708           -3.333           0.001\n",
      "L2.dX3        -0.058320         0.113681           -0.513           0.608\n",
      "L2.dX4         0.003448         0.148216            0.023           0.981\n",
      "L2.dX5         0.301905         0.143021            2.111           0.035\n",
      "L3.dX1        -0.235860         0.148155           -1.592           0.111\n",
      "L3.dX2        -0.293062         0.148827           -1.969           0.049\n",
      "L3.dX3         0.113852         0.113339            1.005           0.315\n",
      "L3.dX4         0.035370         0.147009            0.241           0.810\n",
      "L3.dX5         0.150347         0.147709            1.018           0.309\n",
      "L4.dX1        -0.123722         0.107628           -1.150           0.250\n",
      "L4.dX2        -0.005429         0.123656           -0.044           0.965\n",
      "L4.dX3         0.058670         0.099323            0.591           0.555\n",
      "L4.dX4         0.127892         0.105669            1.210           0.226\n",
      "L4.dX5        -0.089835         0.116649           -0.770           0.441\n",
      "=========================================================================\n",
      "\n",
      "Results for equation dX3\n",
      "=========================================================================\n",
      "            coefficient       std. error           t-stat            prob\n",
      "-------------------------------------------------------------------------\n",
      "const          3.539535         1.009415            3.507           0.000\n",
      "L1.dX1        -0.174705         0.124732           -1.401           0.161\n",
      "L1.dX2        -0.086476         0.131442           -0.658           0.511\n",
      "L1.dX3        -0.709443         0.110949           -6.394           0.000\n",
      "L1.dX4         0.017159         0.126323            0.136           0.892\n",
      "L1.dX5        -0.071147         0.124740           -0.570           0.568\n",
      "L2.dX1        -0.194202         0.165179           -1.176           0.240\n",
      "L2.dX2        -0.006201         0.168568           -0.037           0.971\n",
      "L2.dX3        -0.483580         0.128002           -3.778           0.000\n",
      "L2.dX4         0.201397         0.166888            1.207           0.228\n",
      "L2.dX5        -0.122249         0.161039           -0.759           0.448\n",
      "L3.dX1        -0.183160         0.166820           -1.098           0.272\n",
      "L3.dX2        -0.150422         0.167577           -0.898           0.369\n",
      "L3.dX3        -0.451235         0.127617           -3.536           0.000\n",
      "L3.dX4         0.223093         0.165529            1.348           0.178\n",
      "L3.dX5         0.049087         0.166317            0.295           0.768\n",
      "L4.dX1        -0.132683         0.121187           -1.095           0.274\n",
      "L4.dX2        -0.246121         0.139235           -1.768           0.077\n",
      "L4.dX3        -0.236353         0.111836           -2.113           0.035\n",
      "L4.dX4         0.101067         0.118981            0.849           0.396\n",
      "L4.dX5         0.103228         0.131344            0.786           0.432\n",
      "=========================================================================\n",
      "\n",
      "Results for equation dX4\n",
      "=========================================================================\n",
      "            coefficient       std. error           t-stat            prob\n",
      "-------------------------------------------------------------------------\n",
      "const          2.912114         0.903040            3.225           0.001\n",
      "L1.dX1         0.000724         0.111587            0.006           0.995\n",
      "L1.dX2         0.431613         0.117590            3.670           0.000\n",
      "L1.dX3         0.000577         0.099256            0.006           0.995\n",
      "L1.dX4        -0.829822         0.113011           -7.343           0.000\n",
      "L1.dX5        -0.071051         0.111595           -0.637           0.524\n",
      "L2.dX1        -0.064537         0.147772           -0.437           0.662\n",
      "L2.dX2         0.255662         0.150804            1.695           0.090\n",
      "L2.dX3        -0.109783         0.114513           -0.959           0.338\n",
      "L2.dX4        -0.543591         0.149301           -3.641           0.000\n",
      "L2.dX5        -0.114235         0.144069           -0.793           0.428\n",
      "L3.dX1        -0.164512         0.149240           -1.102           0.270\n",
      "L3.dX2         0.128069         0.149917            0.854           0.393\n",
      "L3.dX3        -0.081626         0.114168           -0.715           0.475\n",
      "L3.dX4        -0.218561         0.148085           -1.476           0.140\n",
      "L3.dX5        -0.226757         0.148790           -1.524           0.128\n",
      "L4.dX1        -0.130845         0.108416           -1.207           0.227\n",
      "L4.dX2        -0.037430         0.124562           -0.300           0.764\n",
      "L4.dX3        -0.077877         0.100051           -0.778           0.436\n",
      "L4.dX4        -0.014264         0.106442           -0.134           0.893\n",
      "L4.dX5        -0.030886         0.117503           -0.263           0.793\n",
      "=========================================================================\n",
      "\n",
      "Results for equation dX5\n",
      "=========================================================================\n",
      "            coefficient       std. error           t-stat            prob\n",
      "-------------------------------------------------------------------------\n",
      "const          3.654168         0.927164            3.941           0.000\n",
      "L1.dX1        -0.072009         0.114568           -0.629           0.530\n",
      "L1.dX2         0.041315         0.120732            0.342           0.732\n",
      "L1.dX3        -0.044024         0.101908           -0.432           0.666\n",
      "L1.dX4        -0.138417         0.116030           -1.193           0.233\n",
      "L1.dX5        -0.888588         0.114576           -7.755           0.000\n",
      "L2.dX1        -0.134342         0.151719           -0.885           0.376\n",
      "L2.dX2         0.012919         0.154833            0.083           0.934\n",
      "L2.dX3         0.029937         0.117572            0.255           0.799\n",
      "L2.dX4        -0.152226         0.153289           -0.993           0.321\n",
      "L2.dX5        -0.555755         0.147917           -3.757           0.000\n",
      "L3.dX1        -0.065251         0.153227           -0.426           0.670\n",
      "L3.dX2         0.031371         0.153922            0.204           0.838\n",
      "L3.dX3         0.036315         0.117218            0.310           0.757\n",
      "L3.dX4         0.006109         0.152041            0.040           0.968\n",
      "L3.dX5        -0.451053         0.152765           -2.953           0.003\n",
      "L4.dX1         0.019222         0.111312            0.173           0.863\n",
      "L4.dX2        -0.136672         0.127889           -1.069           0.285\n",
      "L4.dX3        -0.063686         0.102723           -0.620           0.535\n",
      "L4.dX4         0.060457         0.109286            0.553           0.580\n",
      "L4.dX5        -0.183036         0.120642           -1.517           0.129\n",
      "=========================================================================\n",
      "\n",
      "Correlation matrix of residuals\n",
      "            dX1       dX2       dX3       dX4       dX5\n",
      "dX1    1.000000 -0.087806 -0.130156  0.030315 -0.095998\n",
      "dX2   -0.087806  1.000000 -0.038216 -0.004736  0.141856\n",
      "dX3   -0.130156 -0.038216  1.000000 -0.013419 -0.034031\n",
      "dX4    0.030315 -0.004736 -0.013419  1.000000  0.048651\n",
      "dX5   -0.095998  0.141856 -0.034031  0.048651  1.000000\n",
      "\n",
      "\n",
      "\n"
     ]
    }
   ],
   "source": [
    "# Generate sample data with 5 variables\n",
    "np.random.seed(0)\n",
    "n_obs = 100\n",
    "n_variables = 5  # Number of variables\n",
    "data = np.random.normal(size=(n_obs, n_variables))\n",
    "data += np.arange(n_obs)[:, np.newaxis]\n",
    "\n",
    "# Create a DataFrame\n",
    "df = pd.DataFrame(data, columns=['X1', 'X2', 'X3', 'X4', 'X5'])\n",
    "\n",
    "df['dX1'] = df['X1'] -  df[\"X1\"].shift(1)\n",
    "df['dX2'] = df['X2'] -  df[\"X2\"].shift(1)\n",
    "df['dX3'] = df['X3'] -  df[\"X3\"].shift(1)\n",
    "df['dX4'] = df['X4'] -  df[\"X4\"].shift(1)\n",
    "df['dX5'] = df['X5'] -  df[\"X5\"].shift(1)\n",
    "df = df[1:] #eliminate NaN\n",
    "\n",
    "X = df.loc[:,[\"dX1\",\"dX2\",\"dX3\",\"dX4\",\"dX5\"]].copy()\n",
    "\n",
    "# Fit VAR model\n",
    "model = VAR(X)\n",
    "order = 4  # Order of VAR model\n",
    "results = model.fit(order)\n",
    "\n",
    "# Print summary of the model\n",
    "print(results.summary())"
   ]
  },
  {
   "cell_type": "markdown",
   "id": "205e89be",
   "metadata": {},
   "source": [
    "All standard errors are bigger, indicating a less efficient estimation. In the VAR model with more variables, the standard errors tend to increase relative to the VAR model with fewer variables. This increase in standard errors indicates a higher level of uncertainty in the parameter estimates due to the larger number of parameters being estimated simultaneously."
   ]
  }
 ],
 "metadata": {
  "kernelspec": {
   "display_name": "Python 3",
   "language": "python",
   "name": "python3"
  },
  "language_info": {
   "codemirror_mode": {
    "name": "ipython",
    "version": 3
   },
   "file_extension": ".py",
   "mimetype": "text/x-python",
   "name": "python",
   "nbconvert_exporter": "python",
   "pygments_lexer": "ipython3",
   "version": "3.6.13"
  }
 },
 "nbformat": 4,
 "nbformat_minor": 5
}
